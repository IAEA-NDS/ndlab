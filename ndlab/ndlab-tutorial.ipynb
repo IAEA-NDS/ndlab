{
 "cells": [
  {
   "cell_type": "markdown",
   "metadata": {},
   "source": [
    "<img src=\"https://nds.iaea.org/relnsd/images/iaea.PNG\" style=\"float:left; border-radius:6px\">\n",
    "<div style=\"margin-top:10px;font-size:22pt;font-weight:bold;\">&nbsp;&nbsp; NDLab\n",
    "    <div style=\"font-size:14pt; font-weight:normal; padding-left:100px;margin-bottom:-10px;margin-top:-10px\">Beta Version </div>\n",
    "<!--span style=\"font-size:16pt; font-weight:normal\"> version 0</span-->\n",
    "</div>\n",
    "\n",
    "\n",
    "<br>\n",
    "<b>The aim of this tutorial is to show how to query and extract data,  plug them in Pyhton tools and custom code</b> \n",
    "<br><br>\n",
    "\n",
    "<b>To install NDLab:</b><br>\n",
    "   go to the <a href=\"https://github.com/IAEA-NDS/NDLab\">GitHub page</a> and read the *How to install* section\n",
    "\n",
    "\n",
    "In some examples this Notebook makes use of two external packages: pandas and plotly.\n",
    "You can of course use NDLab without them, they just make plotting easier.\n",
    "<br>\n",
    "<b>To install plotly</b>:\n",
    "```    \n",
    "    $ pip install plotly\n",
    "    $ pip install ipywidgets\n",
    "    $ jupyter labextension install jupyterlab-plotly\n",
    "```\n",
    "<b>To install pandas:</b>\n",
    "\n",
    "```\n",
    "    $ pip install pandas\n",
    "```\n",
    "\n",
    "(You will have to restart jupyer lab)\n",
    "\n",
    "\n",
    "# This tutorial has three parts: #\n",
    "- <b> 1<sup>st</sup> -  Work with data </b> <br>deals with extraction, analysis, plotting, and exporting of the data\n",
    "- <b> 2<sup>nd</sup> -  Write your own code </b> <br>deals with functions for writing code and building algorithms, like decay energy balance, decay chains, etc...\n",
    "- <b> 3<sup>rd</sup> -  Miscellanous examples </b> <br>to be used as templates to build your own library \n",
    "\n",
    "\n",
    "\n",
    "Let's start importing NDLab:"
   ]
  },
  {
   "cell_type": "code",
   "execution_count": null,
   "metadata": {
    "tags": []
   },
   "outputs": [],
   "source": [
    "# NuclearDataLab\n",
    "import ndlab as nl\n",
    "\n",
    "# this is needed only for using autocompletion when typing\n",
    "from ndlaborm import * \n",
    "\n",
    "import pandas as pd\n",
    "import io\n"
   ]
  },
  {
   "cell_type": "markdown",
   "metadata": {},
   "source": [
    "<div class=\"alert alert-block alert-success\" style=\"font-size:18pt; font-weight:bold\">\n",
    "    \n",
    " 1<sup>st</sup> - Work with data\n",
    "    \n",
    "   </div>\n",
    "\n",
    "Just type the properties you want. As example, for the nuclide charge radius type **`NUCLIDE.CHARGE_RADIUS`**    \n",
    "\n",
    "<div class=\"alert alert-block alert-info\" style=\"padding:0px; color:rgb(80,80,80)\">\n",
    "    <b>Practice</b><br>\n",
    "Use the autofilling to see what is availabe: start typing 'NU' and hit the tab key to load NUCLIDE, then add '.', to see all the  fields.<br>\n",
    "    For the moment no code will be run, it is just to test the input method\n",
    "</div> \n"
   ]
  },
  {
   "cell_type": "code",
   "execution_count": null,
   "metadata": {},
   "outputs": [],
   "source": []
  },
  {
   "cell_type": "markdown",
   "metadata": {},
   "source": [
    "Here the list of **entites** one can query <br>\n",
    "**`NUCLIDE, LEVEL, GAMMA, L_DECAY, CUM_FY, IND_FY`** <br>plus the set of decay radiations:<br>\n",
    "**`DR_ALPHA, DR_GAMMA, DR_BETAM, DR_BETAP, DR_ANTI_NU, DR_NU, DR_X, DR_ANNHIL, DR_AUGER, DR_CONV_EL, DR_DELAYED, DR_PHOTON_TOTAL`**\n",
    "\n",
    "<!-- Each entity has a set of quantities, like **`LEVEL.ENERGY`**, or **`DR_ALPHA.INTENSITY`**, ...-->\n",
    "<div class=\"alert alert-block alert-info\" style=\"padding:0px; color:rgb(80,80,80)\">\n",
    "    <b>Practice</b><br>\n",
    "Try the autofilling with some of entities to see what they provide.<br>\n",
    "For the moment no code will be run, it is just to test the input method\n",
    "</div> "
   ]
  },
  {
   "cell_type": "markdown",
   "metadata": {},
   "source": [
    "<div class=\"alert alert-block alert-success\">\n",
    "    <b>Entities can  have links to other entities</b>\n",
    "    <br>\n",
    "    For example `GAMMA.START_LEVEL` gives access to the start level of the gamma, and if you type `GAMMA.START_LEVEL.ENERGY` you will refer to its energy\n",
    "\n",
    "   </div>\n",
    "\n",
    "\n",
    "In the picture below the fields providing the links are in green - to nuclide, and red - to level.\n",
    "<div><img src='../docs/_static/ndlab_rel.png' width=800></div>\n",
    "\n"
   ]
  },
  {
   "cell_type": "markdown",
   "metadata": {},
   "source": [
    "<div class=\"alert alert-block alert-info\" style=\"padding:0px; color:rgb(80,80,80)\">\n",
    "<b>Practice 1</b><br> Try to reach the angular momentum J of a level that decays emitting beta radiation (DR_BETA)\n",
    "    <br><br>\n",
    "     to see the solution, go to the cell at the very bottom\n",
    "</div> "
   ]
  },
  {
   "cell_type": "code",
   "execution_count": null,
   "metadata": {},
   "outputs": [],
   "source": []
  },
  {
   "cell_type": "markdown",
   "metadata": {},
   "source": [
    "<div class=\"alert alert-block alert-info\" style=\"padding:0px; color:rgb(80,80,80)\">\n",
    "    <b>Practice</b><br>\n",
    "use print(description(NUCLIDE)), or any of the other names, to get the details the available fields and links\n",
    "    \n",
    "<br><br>\n",
    "<b>Note</b>:\n",
    "    <br>\n",
    "- (Q) tells that there are also the _UNC and _LIMIT fields. For example SP, SP_UNC, SP_LIMIT \n",
    "<br>    \n",
    "- (q) tells that there is the _UNC field. For example ABUNDANCE, ABUNDANCE_UNC\n",
    "<br>\n",
    "- (S) tells that the fields is a string. For example NUCID, or JP   \n",
    "</div>"
   ]
  },
  {
   "cell_type": "code",
   "execution_count": null,
   "metadata": {},
   "outputs": [],
   "source": [
    "print(description(NUCLIDE))"
   ]
  },
  {
   "cell_type": "markdown",
   "metadata": {},
   "source": [
    "\n",
    "<div class=\"alert alert-block alert-success\" style=\"font-size:12pt; font-weight:bold\">\n",
    "    1.1 &nbsp; How to build a data request ... \n",
    "</div>\n",
    "You will be using the grammar described above to get the data. <br>\n",
    "You need to specify what <b>fields</b> to retrieve and what <b>filter</b>, if any, applies. <br>\n",
    "For example to get all the energies of the &gamma;-rays that start from a level with J<sup>&pi;</sup> = 2 <sup>+</sup>\n",
    "<br>\n",
    "\n",
    "`fields = \" GAMMA.ENERGY \"`\n",
    "<br>\n",
    "`filter = \" GAMMA.START_LEVEL.JP = '2+' \"`\n",
    "\n",
    "\n",
    "The filter can be empty, but that in some cases can lead to a lengthy retrieval\n",
    "\n",
    "<div class=\"alert alert-block alert-warning\" style=\"padding:0px; color:rgb(80,80,80)\">\n",
    "    <b>Attention:</b> <br>Enclose the <em>fields</em> and <em>filter</em> between double commas \"  \" <br><br>To take advantage of the autofilling, first write everything without commas, then place them when you are ready.\n",
    "    <br>This happens in a notebook, whilst on command line and other developing environments the autofilling works also within commas\n",
    "</div>\n",
    "\n",
    "<div class=\"alert alert-block alert-success\" style=\"font-size:12pt; font-weight:bold\">\n",
    " ... and get the data\n",
    "</div>\n",
    "\n",
    "The simplest way to retrieve data is to call the **`nl.csv_data(fields, filter)`** function, or the **`nl.json_data(fields, filter)`** function\n",
    "\n",
    "<div class=\"alert alert-block alert-info\" style=\"padding:0px; color:rgb(80,80,80)\">\n",
    "<b>Practice 2</b><br> use the fields and filter variable above to call the csv_data function (place it in a print to have a nicer display), then try the json_data function\n",
    "    <br><br>\n",
    "    to see the solution, go to the bottom cell\n",
    "</div> \n",
    "\n"
   ]
  },
  {
   "cell_type": "code",
   "execution_count": null,
   "metadata": {},
   "outputs": [],
   "source": []
  },
  {
   "cell_type": "markdown",
   "metadata": {},
   "source": [
    "<div class=\"alert alert-block alert-warning\" style=\"padding:6px; color:rgb(80,80,80)\">\n",
    "    <b> Some  rules</b>: <br><br>\n",
    "    <b>1) Only one entity</b><br>\n",
    "    In a list of fields, you must use the same entity: <br>\n",
    "    fields = \"NUCLIDE.Z, GAMMA.ENERGY\" is <b>not</b> allowed, use instead<br>\n",
    "    fields = \"GAMMA.NUC.Z, GAMMA.ENERGY\"\n",
    "    <br><br>\n",
    "    <b>2) Two dots max</b><br>\n",
    "    Do not use more than 2 dots: <br>\n",
    "    DR_BETA<span style=\"font-weight:bold;font-size:16pt;color:red\">.</span>DAUGHTER_FED_LEVEL<span style=\"font-weight:bold;font-size:16pt;color:red\">.</span>NUC<span style=\"font-weight:bold;font-size:16pt;color:red\">.</span>ABUNDANCE is <b>not</b> allowed: 3 dots. <br>\n",
    "    Often you can do the same with 2 dots, in this case<br>\n",
    "    DR_BETA<span style=\"font-weight:bold;font-size:16pt\">.</span>DAUGHTER<span style=\"font-weight:bold;font-size:16pt\">.</span>ABUNDANCE\n",
    "     <br><br>\n",
    "    <b>3) Multiple fields</b><br>\n",
    "    must be seperated by comma\n",
    "     <br><br>\n",
    "    <b>4) Multiple conditions</b><br>\n",
    "    Use the logical operators <b>and</b> , <b>or</b> \n",
    "     to join conditions in the filter. Matematical operators are <b>=  >  &lt;   &#37; </b>\n",
    "    <br> In general, one can use <b>SQL</b> operators allowed by SQLite\n",
    "   <br><br>\n",
    "    <b> Tips:</b><br>\n",
    "    \n",
    "    You can build <b>functions</b> with the fields:<br>\n",
    "        fields = \"GAMMA.MIXING_RATIO / GAMMA.ENERGY\"\n",
    "        <br>\n",
    "        <br>\n",
    "    You can give <b>alias</b> for convenience<br>\n",
    "        fields = \"GAMMA.MIXING_RATIO / GAMMA.ENERGY <b>as m</b>\"\n",
    "        \n",
    "        \n",
    "   \n",
    "   \n",
    "</div>"
   ]
  },
  {
   "cell_type": "markdown",
   "metadata": {},
   "source": [
    "\n",
    "<div class=\"alert alert-block alert-success\" style=\"font-weight:bold\">\n",
    "<b> A complex example</b>\n",
    "</div>    \n",
    "Let's consider this picture from <a href=\"https://journals.aps.org/prc/abstract/10.1103/PhysRevC.10.1197?ft=1#fulltext\">K. S. Krane Phys. Rev. C 10, 1197 (1974) </a>\n",
    "    <br>\n",
    " <div>\n",
    "    <img src='../docs/_static/krane.png' style='height:600px;float:left; margin-right:20px'>\n",
    "           <br><br><br> \n",
    "    <b>Nuclide</b> : Z even, N even <br><br>\n",
    " **-------------------** <b>Start level</b>: Jp = 2+  &nbsp; &nbsp; (2<sup>nd</sup>occurrence)<br>\n",
    "&nbsp; &nbsp;&darr;<br>\n",
    "&nbsp; &nbsp;&darr; &nbsp; &nbsp;&nbsp; &nbsp; <b>Gamma</b>:  &nbsp;  E2 + M1 multipolarity<br>\n",
    "&nbsp; &nbsp;&darr;<br>\n",
    " **-------------------** <b>End level</b>: Jp = 2+  &nbsp; &nbsp; (1<sup>st</sup>occurrence)\n",
    "    <br><br><br>\n",
    "    <b>Filter criteria</b> <br>\n",
    " - gammas from even-even nuclides<br>\n",
    " - starting from the second Jp = 2+ level<br>\n",
    " - ending at first Jp = 2+ level<br>\n",
    " - having E2+M1 multipolarity<br>\n",
    " \n",
    "    <b>Fields</b><br> \n",
    " - &Delta; =  | mixing ratio / energy |  * 835 ,  and A\n",
    " <br><br>\n",
    "\n",
    "</div>"
   ]
  },
  {
   "cell_type": "markdown",
   "metadata": {},
   "source": [
    "<div class=\"alert alert-block alert-warning\" style=\"padding:6px; color:rgb(80,80,80)\">\n",
    "    <b> How to specify conditions</b>\n",
    "    <br>\n",
    "    Condition on text fields must be placed within commas <b>'</b>:\n",
    "    <br>\n",
    "    GAMMA.START_LEVEL.JP = <b>'2+'</b> \n",
    "    <br><br>\n",
    "    Condition on numeric fields do not have commas:\n",
    "    <br>\n",
    "    GAMMA.ENERGY > <b> 2000</b> \n",
    "    <br><br>\n",
    "    In case of doubt, use print(description(GAMMA)) to see the field type\n",
    "    \n",
    "    <div>"
   ]
  },
  {
   "cell_type": "markdown",
   "metadata": {},
   "source": [
    "<div class=\"alert alert-block alert-info\" style=\"padding:0px; \">\n",
    "<b>Practice 3</b><br> Retrieve the data to reproduce the picture\n",
    "    <br>\n",
    "    The \"fields\" variable, and the first condition of the \"filter\", are already given. <br><br>\n",
    "    - Remember the <b>and</b> to join conditions <br> - Use the autofilling and then add <b>\"</b> at the beginning and at the end\n",
    "    <br><br>\n",
    "    to see the solution go to the cell at the very bottom\n",
    "</div> \n",
    "\n"
   ]
  },
  {
   "cell_type": "code",
   "execution_count": null,
   "metadata": {},
   "outputs": [],
   "source": [
    "\n",
    "fields = \"GAMMA.NUC.Z as z, GAMMA.NUC.N as n , abs( GAMMA.MIXING_RATIO / GAMMA.ENERGY / 0.835 * 1000) as m\"\n",
    "\n",
    "filter  = \"( GAMMA.NUC.Z % 2 = 0 ) and ( GAMMA.NUC.N % 2 = 0 ) \" # gamma from even-even nuclides\n",
    "filter += \" and GAMMA.START_LEVEL.JP = '2+' and GAMMA.START_LEVEL.JP_ORDER = 2 \"# starts from Jp = 2+ , 2nd occurrence\n",
    "#filter +=    # ends at     Jp = 2+ , 1st occurrence\n",
    "#filter +=    # E2 + M1 multipolarity\n",
    "\n",
    "\n",
    "#print(nl.csv_data(fields, filter)[0:250])"
   ]
  },
  {
   "cell_type": "markdown",
   "metadata": {},
   "source": [
    "<div class=\"alert alert-block alert-success\" style=\"font-size:14pt; font-weight:bold\">\n",
    " 1.2 &nbsp; Plotting \n",
    "</div>    \n",
    "\n",
    "So far only\n",
    "     the <b>NDLab</b> package has been used, this is enough to retrieve data and export them in <b>CSV</b> or <b>Json</b>\n",
    "    <br>\n",
    "    What follows shows how to embed <b>NDLab</b> in <b>Pandas</b> and <b>Plotly</b> \n",
    "   \n",
    "\n",
    "Run the cell below which loads the packages \n",
    "    \n"
   ]
  },
  {
   "cell_type": "code",
   "execution_count": null,
   "metadata": {},
   "outputs": [],
   "source": [
    "import numpy as np  \n",
    "import pandas as pd \n",
    "import matplotlib.pyplot as plt \n",
    "import matplotlib.image as mpimg\n",
    "\n",
    "# Plotly\n",
    "import plotly.graph_objects as go\n",
    "import plotly.express as px\n",
    "   "
   ]
  },
  {
   "cell_type": "markdown",
   "metadata": {},
   "source": [
    "<br>\n",
    "The Y axis of the Krane's picture above needs  Log(&Delta;).\n",
    "Using <b>pandas</b>, <b>numpy</b>, and <b>matplotlib </b> data are prepared and plotted.\n",
    "\n",
    "With  `fields`  and `filter` of the above practice, the following cell loads the data and shows part of the dataframe"
   ]
  },
  {
   "cell_type": "code",
   "execution_count": null,
   "metadata": {},
   "outputs": [],
   "source": [
    "fields = \" GAMMA.NUC.Z as z, GAMMA.NUC.N as n, abs( GAMMA.MIXING_RATIO / GAMMA.ENERGY / 0.835 * 1000 ) as y \"   # z, n, mixing / energy\n",
    "\n",
    "filter  = \"(GAMMA.NUC.Z % 2 = 0 ) AND (GAMMA.NUC.N % 2 = 0 ) \"   # even-even nuclides\n",
    "filter += \" and GAMMA.START_LEVEL.JP = '2+' and GAMMA.START_LEVEL.JP_ORDER = 2 \"# starts from Jp = 2+ , 2nd occurrence\n",
    "filter += \" and GAMMA.END_LEVEL.JP = '2+' and GAMMA.END_LEVEL.JP_ORDER = 1 \"   # ends at     Jp = 2+ , 1st occurrence\n",
    "filter += \" and ( GAMMA.MULTIPOLARITY = 'E2+M1' or  GAMMA.MULTIPOLARITY = 'M1+E2' )\" # E2 + M1 multipolarity\n",
    "\n",
    "# load the data into a dataframe\n",
    "df = nl.pandas_df(fields, filter, pd)\n",
    "df\n"
   ]
  },
  {
   "cell_type": "markdown",
   "metadata": {},
   "source": [
    "Now the data are plotted by calculating  Z + N for the x, and log(&Delta;) the the y"
   ]
  },
  {
   "cell_type": "code",
   "execution_count": null,
   "metadata": {},
   "outputs": [],
   "source": [
    "plt.scatter( df[\"z\"] + df[\"n\"],  np.log(df[\"y\"])*10, color='red' )\n"
   ]
  },
  {
   "cell_type": "markdown",
   "metadata": {},
   "source": [
    "It is worth to superimpose the new data with the old ones"
   ]
  },
  {
   "cell_type": "code",
   "execution_count": null,
   "metadata": {},
   "outputs": [],
   "source": [
    "plt.subplots(figsize=(28, 10))\n",
    "plt.scatter(   df[\"z\"] + df[\"n\"],  np.log(df[\"y\"])*10, color='red')\n",
    "plt.imshow(mpimg.imread(\"../docs/_static/krane_2.png\"), extent=[38, 205, -63, 79])"
   ]
  },
  {
   "cell_type": "markdown",
   "metadata": {},
   "source": [
    "The paper claims that there are minima at closed shells<br>\n",
    "On a 2D plot it is difficult to see where the closed shells in N or Z  are placed<br>\n",
    "The cell below uses plotly to plot a 3D picture where nuclides with closed shells are in red:<br>\n",
    "- A second dataset is loaded with only the closed shells by adding a condition to the filter\n",
    "- The first and second dataset are plotted togeter\n",
    "\n",
    "Plotly graphs are interactive, can be rotated and zoomed"
   ]
  },
  {
   "cell_type": "code",
   "execution_count": null,
   "metadata": {},
   "outputs": [],
   "source": [
    "# condition for closed-shell \n",
    "filter2 = filter + \" and ( GAMMA.NUC.Z  in ( 2,8,20,28,50,82,126 ) or GAMMA.NUC.N in ( 2,8,20,28,50,82,126 ) )\"\n",
    "\n",
    "# load data\n",
    "df2 = nl.pandas_df(fields, filter2, pd)\n",
    "\n",
    "# plot 3D\n",
    "fig = go.Figure(data=[\n",
    "    # all nuclides\n",
    "    go.Scatter3d(\n",
    "        x=df[\"z\"], y=df[\"n\"], z=np.log10(df.y)*10, \n",
    "        mode='markers', marker=dict(size=8, color='blue')\n",
    "    )\n",
    " ,   \n",
    "    # the magic ones in red\n",
    "    go.Scatter3d(\n",
    "        x=df2[\"z\"], y=df2[\"n\"], z=np.log10(df2.y)*10, \n",
    "        mode='markers',marker=dict(size=8,color=\"red\")\n",
    "    )\n",
    "  \n",
    "])\n",
    "\n",
    "# set layout properties\n",
    "fig.update_layout(margin=dict(l=0, r=0, b=30, t=0) ,width=800, height=800,    \n",
    "                  scene = dict(xaxis_title='Z',yaxis_title='N',zaxis_title='Delta') \n",
    "                 ).show()"
   ]
  },
  {
   "cell_type": "markdown",
   "metadata": {},
   "source": [
    "\n",
    "<br><br>\n",
    "Once you have a dataframe, you can export into almost anything\n",
    " <code>\n",
    "  df.to_csv()\n",
    "  df.to_json()\n",
    "  df.to_hdf()\n",
    "  df.to_excel()  \n",
    "  df.to_sql()\n",
    "  df.to_xml()\n",
    " </code>\n",
    "<div class=\"alert alert-block alert-warning\" style=\"padding:6px; color:rgb(80,80,80)\">\n",
    "    <b>Note</b>: do not focus on the format, the <b>format does not matter</b>. Focus instead on the data model, the <b> data model matters</b>\n",
    "</div>"
   ]
  },
  {
   "cell_type": "markdown",
   "metadata": {},
   "source": [
    "<div class=\"alert alert-block alert-success\" style=\" font-weight:bold\">\n",
    "Performance test \n",
    "</div>    \n",
    "Get the energy distribution of the entire set of gamma transitions:<br>  The following steps are performed with a couple lines of code\n",
    "\n",
    " * 260 000 gamma lines in the db are taken, \n",
    " * a condition on each line is applied, \n",
    " * the results are ordered, \n",
    " * the results are binned, \n",
    " * an interactive plot is shown\n",
    " "
   ]
  },
  {
   "cell_type": "code",
   "execution_count": null,
   "metadata": {},
   "outputs": [],
   "source": [
    "fields =    \"GAMMA.ENERGY as energy\"\n",
    "condition = \"GAMMA.NUC.Z < 80 and  GAMMA.NUC.Z > 0 and GAMMA.ENERGY < 2000\"\n",
    "\n",
    "dfg =  nl.pandas_df(fields,condition,pd)\n",
    "\n",
    "px.histogram( dfg,  x=\"energy\", nbins=200).show()\n"
   ]
  },
  {
   "cell_type": "markdown",
   "metadata": {},
   "source": [
    "<div class=\"alert alert-block alert-info\" style=\"padding:6px; color:rgb(80,80,80)\">\n",
    "Look at the binning above, is there anything relevant for clinical imaging of PET nuclides ? \n",
    "    </div>"
   ]
  },
  {
   "cell_type": "markdown",
   "metadata": {},
   "source": [
    "<div class=\"alert alert-block alert-success\" style=\"font-size:17pt;font-weight:bold\">\n",
    "     1.3 &nbsp; Data analysis\n",
    "    </div>\n",
    "\n",
    "\n",
    "The picture above relies on your brain to find patterns and outliers, whilst\n",
    "the cell below shows how to automatise the process.\n",
    "    <br>\n",
    "    The assumption is that the curve should be smooth, meaning that the first dervative should not have sudden jumps.\n",
    "<br>\n",
    "    Comments in cell explain the steps \n"
   ]
  },
  {
   "cell_type": "code",
   "execution_count": null,
   "metadata": {},
   "outputs": [],
   "source": [
    "fields =    \"GAMMA.ENERGY as energy\"\n",
    "condition = \"GAMMA.ENERGY BETWEEN 0 AND 2000\"\n",
    "\n",
    "# load a pandas dataframe using the convenience funtion defined above\n",
    "a =  nl.pandas_df(fields,condition,pd)\n",
    "\n",
    "# bin the data (consult the web for further examples and explanations)\n",
    "dft = pd.cut(a[a.columns[0]], bins=300).apply(lambda x: x.mid).value_counts(sort=False).to_frame()\n",
    "dft = dft.rename(columns={\"energy\": \"counts\"})\n",
    "\n",
    "# get the derivative\n",
    "dft[\"delta\"] = abs(dft.diff(periods = 1).counts )\n",
    "\n",
    "# visualise the outlier (consult the web to check Plotly tools for data processing)\n",
    "fig = px.box(dft, y=dft.delta).show()\n",
    "\n",
    "# print the energy where the outlier occurs\n",
    "print(\"Outlier energy \", dft.index[dft.index.get_loc(dft.delta.idxmax()) - 1 ])\n",
    "\n"
   ]
  },
  {
   "cell_type": "markdown",
   "metadata": {},
   "source": [
    "\n",
    "<div class=\"alert alert-block alert-success\">\n",
    "A few examples of data retrieval with filter to conclude part one of the tutorial\n",
    "</div>\n",
    "\n",
    "<div class=\"alert alert-block alert-success\" style=\"font-size:13pt;font-weight:bold\">\n",
    "     1.3.1 &nbsp; Plot log_ft values grouped by transition type\n",
    "    </div>\n",
    "\n",
    "\n",
    "\n",
    "In the plot the transition type is not decoded: 1NU stands for 1<sup>st</sup> non-unique, etc..."
   ]
  },
  {
   "cell_type": "code",
   "execution_count": null,
   "metadata": {},
   "outputs": [],
   "source": [
    "fields = \"DR_BETA.TRANS_TYPE as t , DR_BETA.LOGFT as l\"\n",
    "filter = \" DR_BETA.LOGFT != 0\" # this is just to avoid empty values\n",
    "\n",
    "df =  nl.pandas_df(fields, filter,pd)\n",
    "\n",
    "# group by transition type\n",
    "ans = [pd.DataFrame(y) for x, y in df.groupby(df.columns[0], as_index=False)]\n",
    "\n",
    "\n",
    "# plot log_ft for each transition type \n",
    "fig = go.Figure()\n",
    "for a in ans:\n",
    "    tst = pd.cut(a['l'], bins=120).apply(lambda x: x.mid).value_counts(sort=False)\n",
    "    fig.add_trace(go.Scatter(x=tst.index.values, y = tst, mode=\"markers\",name=a.iloc[0, 0]))\n",
    "\n",
    "fig.update_layout(width=800, height=400, xaxis_range=[3,15] ).show()\n",
    "\n",
    "\n"
   ]
  },
  {
   "cell_type": "markdown",
   "metadata": {},
   "source": [
    "<div class=\"alert alert-block alert-success\" style=\"font-size:13pt;font-weight:bold\">\n",
    "    1.3.2 &nbsp; Plot log ft for allowed transitions form a parent level with Jp = '0+' \n",
    "    </div>"
   ]
  },
  {
   "cell_type": "code",
   "execution_count": null,
   "metadata": {},
   "outputs": [],
   "source": [
    "fields =  \" DR_BETA.LOGFT as log_ft\"\n",
    "filter =  \"( DR_BETA.PARENT_LEVEL.JP = '0+') and DR_BETA.TRANS_TYPE ='A'\"\n",
    "\n",
    "df = nl.pandas_df(fields, filter, pd)\n",
    "\n",
    "px.histogram(df, x=df.log_ft, nbins=80).update_layout(width=350, height=350).show()\n"
   ]
  },
  {
   "cell_type": "markdown",
   "metadata": {},
   "source": [
    "<div class=\"alert alert-block alert-success\" style=\"font-size:13pt;font-weight:bold\">\n",
    "  1.3.3 &nbsp; Extract level information for all even-even nuclei with the first excited state is <b>NOT</b> 2+.\n",
    "    </div>\n",
    "\n",
    "\n",
    "\n",
    "With pandas it is easy to dump the data in <b>almost any format</b>. In this way one is then free to use them as input for other tools\n",
    "<br>\n",
    "Check the web for how to use the various writing - reading methods listed below\n",
    " "
   ]
  },
  {
   "cell_type": "code",
   "execution_count": null,
   "metadata": {},
   "outputs": [],
   "source": [
    "\n",
    "filter = (\"LEVEL.NUC.N % 2 = 0 AND LEVEL.NUC.Z % 2 = 0 AND LEVEL.SEQNO = 1 AND LEVEL.JP != '2+' AND LEVEL.JP_METHOD = JP_STRONG \")\n",
    " \n",
    "df = nl.pandas_df_nl(nl.levels(filter), pd)\n",
    "\n",
    "df\n"
   ]
  },
  {
   "cell_type": "markdown",
   "metadata": {},
   "source": [
    "<div class=\"alert alert-block alert-success\" style=\"font-size:18pt;font-weight:bold\">\n",
    " 2<sup>nd</sup> - Functions and programming\n",
    "    </div>\n",
    "\n",
    "Often one wants to write had hoc processing code that differs from filtering, grouping, binning, or any other manipulation.\n",
    "For example, calculate the energy balance of a decay.\n",
    "\n",
    "**Ndlab** provides as a set of python classes and functions pushing the data extraction to the background. The functions accept the *filter* parameter (default no filter) to restrict the selection.\n",
    "    \n",
    "    \n",
    "<div class=\"alert alert-block alert-warning\" style=\"padding:6px; color:rgb(80,80,80)\">\n",
    "    <b>Note</b>:  Only the <b>NDLab</b> packages are needed in the following.\n",
    "    One needs Pandas or Plotly just when using a dataframe or a plot\n",
    "    <br><br>\n",
    "    <b>Warning</b>: the filter can refer only to the entity retrieved: dr_gammas(\" DR_GAMMA.ENERGY > 2000 \") \n",
    "    \n",
    "    <br><br>\n",
    "    <b>Tip</b>: use the remove_doublers function in case the selection returns double entries :\n",
    "    \n",
    "    <br>\n",
    " <code>\n",
    "     delayed_n = nl.dr_delayeds( \"DR_DELAYED.TYPE = DELAY_N \")\n",
    "     parent_nucs = [ ld.parent for ld in delayed_n]\n",
    "     parent_nucs = nl.remove_doublers(parent_nucs)</code>\n",
    "    <br>\n",
    "    Whitout this call, a parent emitting many neutron will appear multiple times\n",
    "</div>    \n",
    "\n",
    "The following is a list of hands-on examples. To see the full list of classes and function, please consult the  <a href=\"https://iaea-nds.github.io/ndlab/\"> guide</a>\n",
    "\n",
    "<div class=\"alert alert-block alert-success\" style=\"font-size:13pt;font-weight:bold\">\n",
    "  2.1 &nbsp; Decay energy balance\n",
    "    </div>"
   ]
  },
  {
   "cell_type": "markdown",
   "metadata": {},
   "source": [
    "With NDLab's set of classes and functions, you do not need to take care of the data retrieval.\n",
    "See how you can calculate the energy balance of a decay."
   ]
  },
  {
   "cell_type": "code",
   "execution_count": null,
   "metadata": {},
   "outputs": [],
   "source": [
    "filter = \"\"\n",
    "\n",
    "# load a nuclide using its identifier\n",
    "nuc = nl.nuclide(\"82SR\")\n",
    "\n",
    "\n",
    "# the decays() function loads an array with all the decays. Take the first one\n",
    "decay = nuc.decays[0]\n",
    "\n",
    "# all possible radiation types for the chosen decay\n",
    "rads = [\n",
    "        decay.xs(),          # X-ray\n",
    "        decay.gammas(),      # Gamma\n",
    "        decay.convels(),     # Conversion electron\n",
    "        decay.augers(),      # Auger\n",
    "        decay.alphas(),      # Alpha\n",
    "        decay.betas_m(),     # B-\n",
    "        decay.betas_p(),     # B+\n",
    "        decay.anti_nus(),    # anti-neutrino\n",
    "        decay.nus(),         # neutrino\n",
    "        decay.annihil()      # annihilation\n",
    "       ]\n",
    "\n",
    "# measured energy for each radiation type\n",
    "# note that for neutrini there are two contributions:\n",
    "#      - one for the beta+ process, included in the first term below\n",
    "#      - one for the electron capture process, included in the second\n",
    "rads_en = [(sum([r[i].energy * r[i].intensity for i in range(len(r))])) for r in rads] + [(nu.energy_ec * nu.intensity_ec) for nu in decay.nus()]\n",
    "\n",
    "# total measured energy\n",
    "tot_en = sum(rads_en) / 100 \n",
    "\n",
    "# intensities are per 100 decay of the parent, need to renormalise Q with branching ratio\n",
    "q_br = decay.q_togs * decay.perc/100\n",
    "\n",
    "# difference with deposited energy\n",
    "delta = ((q_br - tot_en)/q_br)*100\n",
    "\n",
    "print(\"Branching Ratio:          \", decay.perc/100 )\n",
    "print(\"Energy accounted for [keV]\" , tot_en )\n",
    "print(\"Qb- * B.R. [keV]          \" , q_br)\n",
    "print(\"Delta [%]                  \" , int(delta.value * 100) /100)\n",
    "print(\"\\nNotice the built-in uncertainty propagation\")\n"
   ]
  },
  {
   "cell_type": "markdown",
   "metadata": {},
   "source": [
    "<br>\n",
    "<div class=\"alert alert-block alert-success\" style=\"font-size:13pt;font-weight:bold\">\n",
    "   2.2 &nbsp;Ancestors - offsprings chain \n",
    "    </div>\n",
    "    \n",
    "Summary of decay chain, see the next cell for a more sophisticated example\n"
   ]
  },
  {
   "cell_type": "code",
   "execution_count": null,
   "metadata": {},
   "outputs": [],
   "source": [
    "# the daughters and parents of a nuclide are lists with the direct daughters and parents, respectively\n",
    "# the list contains the Ground States of the daughters/parents\n",
    "\n",
    "nuc = nl.nuclide(\"238U\") \n",
    "\n",
    "print('Daughters and H-l [s]')\n",
    "[print(d.nucid, d.gs.half_life_sec) for d in nuc.daughters]\n",
    "    \n",
    "\n",
    "print('\\nParents and H-l [s]')\n",
    "[print(p.nucid, p.gs.half_life_sec) for p in nuc.parents]\n",
    "\n",
    "\n",
    "# the daughters_chain and parents_chain of a nuclide are lists with all daughters and parents, respectively\n",
    "# the list contains the Ground States of the daughters/parents\n",
    "\n",
    "print('\\nDaughters chain \\nNote that U-238 is listed as a daughter since it has an isomeric state that decays to the GS ')\n",
    "dau = [n.gs for n in nl.nuclide(\"238U\").daughters_chain]\n",
    "for d in dau:\n",
    "    print(d.nucid)\n",
    "\n",
    "\n",
    "print('\\nParents chain') \n",
    "par = [n.gs for n in nl.nuclide(\"205TL\").parents_chain]\n",
    "for p in par:\n",
    "    print(p.nucid)\n",
    "    \n"
   ]
  },
  {
   "cell_type": "markdown",
   "metadata": {},
   "source": [
    "<br>\n",
    "<div class=\"alert alert-block alert-success\" style=\"font-size:13pt;font-weight:bold\">\n",
    "   2.2.1 &nbsp; Detailed analysis\n",
    "    </div>\n",
    " \n",
    "\n",
    "The function <b> decay_chain(nucid, level, initial population)</b>, at the bottom of the next cell, produces a description of a decay chain.<br>\n",
    "The relevant entities are saved in a data structure for further analysis, see the final printout.<br>\n",
    "\n",
    "Note that in the Th-234 step, one needs to consider the Pa-234  <a href=\"https://nds.iaea.org/relnsd/LCServlet?QRY=POPDECAY&DS_SEQNO=104574\"> metastable feeding <a><br>\n",
    "Indeed the Th-234 -> Pa-234 decay has two lines (#2 and #15), as well as the Pa-234 -> U-234 (#3 and #16)\n",
    "    \n",
    "This example shows again how <b>NDLab</b> allows to focus on the Physics of the issue, and not on libraries' formats, structure, conventions ...\n",
    "\n"
   ]
  },
  {
   "cell_type": "code",
   "execution_count": null,
   "metadata": {},
   "outputs": [],
   "source": [
    "# dictionary filled by the decay_chain() function to keep the relevant entities for further analysis\n",
    "SAVE = []\n",
    "\n",
    "# Keeps track of the decays already processed\n",
    "DONE = []\n",
    "\n",
    "# the H-l threshold for considering a metastable, in seconds\n",
    "H_L_META = \"60\"\n",
    "\n",
    "# do not consider dacays below thisthershold, in %\n",
    "DECAY_PERC_TRESHOLD = 5\n",
    "\n",
    "# filter any alpha, beta the decay radiation feeding a metastable : the seqno of the fed level must not be 0, and its H-l must be above the threshold\n",
    "FILTER_META = \"( DECAY_RAD.DAUGHTER_FED_LEVEL.HALF_LIFE_SEC > \" + H_L_META +  \" and DECAY_RAD.DAUGHTER_FED_LEVEL_SEQNO != 0 )\"\n",
    "# same as above but for gamma from IT decays\n",
    "FILTER_META_GAMMA = \"( DR_GAMMA.END_LEVEL.HALF_LIFE_SEC > \" + H_L_META +  \" and DR_GAMMA.END_LEVEL_SEQNO != 0 )\"\n",
    "\n",
    "# keeps track of nuclides already populated, to renormalise the production rate \n",
    "ALREADY_EXISTING = {}\n",
    "\n",
    "# whether to print the decay balance\n",
    "PRINT_BALANCE = True\n",
    "\n",
    "# whether any radiation populates a metastable, consider only alpha, beta +/-, and isomeric transition\n",
    "def get_rads_to_meta(d):\n",
    "    \n",
    "    if(d.code in [DECAY_A]):\n",
    "            rads = d.alphas(FILTER_META)\n",
    "    elif (d.code in [DECAY_Bm]):\n",
    "            rads = d.betas_m(FILTER_META)\n",
    "    elif (d.code in [DECAY_Bp]):\n",
    "            rads = d.betas_p(FILTER_META)\n",
    "    elif (d.code in [DECAY_IT]):\n",
    "            rads = d.gammas(FILTER_META_GAMMA)\n",
    "    else:\n",
    "            print(' wrong decay ',d.code) # decay modes like delayed emission are not considered\n",
    "            rads = []\n",
    "            \n",
    "    if(len(rads) > 1): print(rads[0].parent_nucid) # allow only 1 meta , warning if more \n",
    "    return rads\n",
    "\n",
    "# the gamma feeding of a level from the above levels. For metastable, this intensity needs to be added to the direct feeding\n",
    "def gamma_feed(decay, end_level):\n",
    "    filter_gm = \"DR_GAMMA.END_LEVEL_SEQNO = \" + str( end_level)\n",
    "    feeding = sum( g.intensity for g in decay.gammas(filter_gm))\n",
    "    return feeding\n",
    "\n",
    "# energy balance of the decay, to see whether the decay schema is complete\n",
    "def energy_balance(decay):\n",
    "     \n",
    "    tot_en = decay.tot_measured_en()\n",
    "    if(tot_en == 0): \n",
    "        return False\n",
    "    print('\\n', 'Decay',  decay.mode.name,'from', decay.nucid, 'level ',decay.l_seqno, 'to', decay.daughter_nucid , str(decay.perc)+' %')#, ' cumulative %',str((cum_intensity*100))+' %' )\n",
    "    if( not PRINT_BALANCE): return True\n",
    "\n",
    "    # intensities are per 100 decay of the parent, need to renormalise Q with branching ratio\n",
    "    q_br = decay.q_togs * decay.perc/100\n",
    "\n",
    "    # difference with deposited energy\n",
    "    delta = ((q_br - tot_en)/q_br)*100\n",
    "    \n",
    "    print(\"Branching Ratio:          \", decay.perc/100 )\n",
    "    print(\"Energy accounted for [keV]\" , tot_en )\n",
    "    print(\"Qb- * B.R. [keV]          \" , q_br)\n",
    "    print(\"Delta [%]                  \" , int(delta.value * 100) /100)\n",
    "    \n",
    "    return True\n",
    "\n",
    "# this performs the business\n",
    "# it is called recursively from parent to daughter(s). A daughter can be processed more than once if there are many pathways to it\n",
    "# nucid , l_seqno are from the  daughter of the previous decay, that now becomes the parent\n",
    "# cum_intensity is the cumulative intensity, normalised to 100, with which the nuclide is produced:\n",
    "def decay_chain(nucid, l_seqno, cum_intensity):\n",
    "    \n",
    "    # check if the cumulative intensity has a contribution from another decay already processed\n",
    "    if nucid in ALREADY_EXISTING:\n",
    "        cum_intensity = ALREADY_EXISTING[nucid]\n",
    "   \n",
    "    cum_intensity =  (cum_intensity/100)\n",
    "    \n",
    "    # get all decays\n",
    "    nuc = nl.nuclide(nucid)\n",
    "    decays = nuc.decays\n",
    "   \n",
    "    if( len(decays)==0) : return\n",
    "    decays_todo = []\n",
    "    \n",
    "    # process only the decays from the given level\n",
    "    for d in decays:\n",
    "        if(d.perc > DECAY_PERC_TRESHOLD and d.l_seqno == l_seqno): decays_todo.append(d)\n",
    "        \n",
    "    for d in decays_todo:\n",
    "        # skip if the decay was already processed\n",
    "        \n",
    "        if(d.pk in DONE or not energy_balance(d)): return    \n",
    "        print('Cumulative population of the father:',str((cum_intensity*100))+' %' )\n",
    "        # get the decay to a metastable\n",
    "        rads_meta = get_rads_to_meta(d)\n",
    "         \n",
    "        # total intesitiy that populates the metastable : direct feeding plus gamma from above   \n",
    "        tot_meta_feed = 0\n",
    "        for r in rads_meta: \n",
    "            # no metastable populated, skip\n",
    "            if(len(rads_meta) == 0): break\n",
    "                \n",
    "            tot_meta_feed = gamma_feed(d,r.fed_level.l_seqno) + r.intensity\n",
    "            \n",
    "            print('    metastable fed from parent level', r.parent_l_seqno, ' -->  to daughter level ',r.fed_level.l_seqno, ' gamma feeding: ' ,gamma_feed(d,r.fed_level.l_seqno) ,' direct feeding: ', r.intensity)\n",
    "            \n",
    "            # check if meta and the GS have the same daughter\n",
    "            # in case, save the total BR for the daughter: when the daughter is processed it has the correct cumulative intensity\n",
    "            dau_decays = nl.nuclide(d.daughter_nucid).decays   \n",
    "            dau_dau = ''\n",
    "            for dd in dau_decays:\n",
    "                if(dd.l_seqno == 0): # decay from GS of the daughter\n",
    "                    dau_dau = dd.daughter_nucid\n",
    "                if(dd.l_seqno == r.fed_level.l_seqno and dd.daughter_nucid == dau_dau): # daughter of meta = daughter of GS\n",
    "                    # simplify assuming that the meta has 2 decay modes, one IT to the GS, and one to the the same daughter of the GS\n",
    "                    # example 234PA. More complex cases are not analysed here\n",
    "                    ALREADY_EXISTING[dau_dau] = d.perc * cum_intensity\n",
    "            \n",
    "            # remember that the decay has been processed  \n",
    "            DONE.append(d.pk)\n",
    "            SAVE.append({'parent': nuc, 'level': l_seqno, 'fed_level':r.fed_level.l_seqno,'cumulative':(tot_meta_feed * cum_intensity), 'decay': d})\n",
    "            # go to the next step in the chain using the decay from the meta\n",
    "            decay_chain(d.daughter_nucid, r.fed_level.l_seqno, tot_meta_feed * cum_intensity)\n",
    "\n",
    "        \n",
    "        # for the GS take the decay BR minus what goes to a meta\n",
    "        tot_gs_feed = d.perc - tot_meta_feed\n",
    "        \n",
    "        # remember that the decay has been processed  \n",
    "        DONE.append(d.pk)\n",
    "        SAVE.append({'parent': nuc, 'level': l_seqno, 'fed_level':0,'cumulative':(tot_gs_feed * cum_intensity), 'decay': d})\n",
    "        \n",
    "        # go to the next step in the chain using the decay from GS\n",
    "        decay_chain(d.daughter_nucid, 0,tot_gs_feed * cum_intensity)    \n",
    "        \n",
    "\n",
    "###########################\n",
    "# CALL THE FUNCTION \n",
    "# 238U is the initial nuclide, \n",
    "# 0 is its decaying level seqno (0 = Ground State)\n",
    "# 100 is the initial normalisation of the number of nuclides\n",
    "\n",
    "decay_chain('238U',0, 100)   \n",
    "print('\\nThe Dictionary has saved the relevant entities:\\n')\n",
    "\n",
    "cnt = 1\n",
    "for s in SAVE:\n",
    "    print('*'+str(cnt),s['parent'].nucid, s['decay'].daughter_nucid, s['level'],  s['fed_level'], s['cumulative'])\n",
    "    cnt = cnt+1\n",
    "\n"
   ]
  },
  {
   "cell_type": "markdown",
   "metadata": {},
   "source": [
    "<div class=\"alert alert-block alert-success\" style=\"font-size:13pt;font-weight:bold\">\n",
    "  2.3 &nbsp; Level population fraction after a gamma cascade\n",
    "    </div>\n",
    "    \n",
    "Let's say that the level #15 of Xe-135 is populated by some reaction.\n",
    "\n",
    "The following code gives the list of the levels populated by the gamma cascade, with energy and intensity     "
   ]
  },
  {
   "cell_type": "code",
   "execution_count": null,
   "metadata": {},
   "outputs": [],
   "source": [
    "def cascade( my_level):\n",
    "        global todo\n",
    "        global levels\n",
    "        global done\n",
    "        \n",
    "         \n",
    "        for g in my_level.gammas() : \n",
    "            \n",
    "            if(g.end_level.l_seqno != 0 and not (g.end_level.l_seqno in todo)):\n",
    "                todo[g.end_level.l_seqno] = g.end_level\n",
    "            \n",
    "            if not g.end_level.l_seqno in result: \n",
    "                result[g.end_level.l_seqno] = result[my_level.l_seqno] * g.rel_photon_intens/100      \n",
    "            else:\n",
    "                result[g.end_level.l_seqno] += result[my_level.l_seqno] * g.rel_photon_intens/100         \n",
    "        \n",
    "        if not my_level.l_seqno in done: \n",
    "            done.append(my_level.l_seqno)\n",
    "            \n",
    "        todo = dict(sorted(todo.items(), reverse=True))  \n",
    "        \n",
    "        myrun = todo.copy()\n",
    "       \n",
    "        for r in myrun:\n",
    "            if( not r in done):\n",
    "                cascade(levels[r])\n",
    "\n",
    "        return \n",
    "\n",
    "\n",
    "\n",
    "nuc_id = \"135XE\"\n",
    "start_level = 15\n",
    "\n",
    "levels = nl.nuclide(nuc_id).levels() \n",
    "result = {start_level : 1.0}\n",
    "todo = {start_level : levels[start_level] }\n",
    "done = []\n",
    "\n",
    "cascade(levels[start_level])\n",
    "\n",
    "# just printing\n",
    "line = '|'.join(str(x).ljust(24) for x in [ \"energy [keV] \", \" population %\", \"level #\"])\n",
    "print(line +'\\n')\n",
    "for k in sorted(result):\n",
    "    line = '|'.join(str(x).ljust(24) for x in [str(levels[k].energy ), str(result[k]*100.0),levels[k].pk])\n",
    "    print(line)\n",
    "  "
   ]
  },
  {
   "cell_type": "markdown",
   "metadata": {},
   "source": [
    "<div class=\"alert alert-block alert-success\" style=\"font-size:18pt;font-weight:bold\">\n",
    " 3<sup>rd</sup> - Miscellaneous Examples\n",
    "    </div>"
   ]
  },
  {
   "cell_type": "markdown",
   "metadata": {},
   "source": [
    "\n",
    "<div class=\"alert alert-block alert-success\" style=\"font-size:13pt;font-weight:bold\">\n",
    "  3.1 &nbsp;Photon total intensities \n",
    "    </div>\n",
    "\n",
    "Nuclides often have many decay modes, either because of metastable states or because of a single energy state has more branchings\n",
    "\n",
    "In gamma spectroscopy it is useful to have the total intensity of an energy line in the decay of a parent, regardless of the decay mode\n",
    "\n",
    "The cell below selects Eu-152 and calls the `dr_photon_total` function which performs the task. Note that the function is called with a filter which cuts intensityes less than 2%"
   ]
  },
  {
   "cell_type": "code",
   "execution_count": null,
   "metadata": {},
   "outputs": [],
   "source": [
    "\n",
    "\n",
    "df = nl.pandas_df_nl(nl.nuclide(\"152EU\").decays[0].dr_photon_tot(\"DR_PHOTON_TOTAL.INTENSITY > 2\"), pd)\n",
    "\n",
    "go.Figure().add_trace(go.Scatter(x=df['energy'], y = df['intensity'], mode = \"markers\")).update_layout(xaxis_title='Energy [keV]',\n",
    "yaxis_title='Intensity [%]').show()\n",
    "\n",
    "df"
   ]
  },
  {
   "cell_type": "markdown",
   "metadata": {},
   "source": [
    "<div class=\"alert alert-block alert-success\" style=\"font-size:13pt;font-weight:bold\">\n",
    "  3.2 &nbsp; Ground states Half-lives as function of N and Z\n",
    "    </div>\n",
    "\n",
    "\n",
    "See that one can refer to a column in a dataframe by its position, in this way one has a template to plot 3d"
   ]
  },
  {
   "cell_type": "code",
   "execution_count": null,
   "metadata": {},
   "outputs": [],
   "source": [
    "\n",
    "# convenience function to plot 3D\n",
    "def plot3d(fields, condition):\n",
    "    df =  nl.pandas_df(fields,condition, pd)\n",
    "\n",
    "    fig = go.Figure(data=[\n",
    "    \n",
    "    go.Scatter3d(\n",
    "        x=df[df.columns[0]], y = df[df.columns[1]], z = df[df.columns[2]],\n",
    "        mode='markers', marker=dict(size=8, color='blue') )\n",
    "\n",
    "    ])\n",
    "\n",
    "    fig.update_layout(height=1000 ,scene=dict(zaxis=dict( type='log'))).show()\n",
    "    return df\n",
    "\n",
    "fields =    \"LEVEL.NUC.Z , LEVEL.NUC.N , LEVEL.HALF_LIFE_SEC\"\n",
    "condition = \"LEVEL.ENERGY = 0\"\n",
    "\n",
    "plot3d(fields, condition)    \n"
   ]
  },
  {
   "cell_type": "markdown",
   "metadata": {},
   "source": [
    "<div class=\"alert alert-block alert-success\" style=\"font-size:13pt;font-weight:bold\">\n",
    "  3.3 &nbsp; Half-life of nuclides with 10 < Z < 100, emitting delayed neutrons after beta- decay\n",
    "    </div>"
   ]
  },
  {
   "cell_type": "code",
   "execution_count": null,
   "metadata": {},
   "outputs": [],
   "source": [
    "\n",
    "fields = \"DR_DELAYED.PARENT.Z , DR_DELAYED.PARENT.N , DR_DELAYED.PARENT_LEVEL.HALF_LIFE_SEC\"\n",
    "condition = \"DR_DELAYED.TYPE = 'DN' and DR_DELAYED.PARENT.Z > 10 and DR_DELAYED.PARENT.Z < 100\"\n",
    "\n",
    "plot3d(fields, condition)\n"
   ]
  },
  {
   "cell_type": "markdown",
   "metadata": {},
   "source": [
    "<div class=\"alert alert-block alert-success\" style=\"font-size:13pt;font-weight:bold\">\n",
    "  3.4 &nbsp; Half-life of nuclides in the decay chain of Am-241\n",
    "    </div>\n",
    "\n",
    "For each nuclide, the properties `daughters_chain` and `parents_chain` contain the offsprings and the ancestors, respectively\n",
    "\n",
    "The example shows the seamless interplay between sets of NDLab classes and pandas dataframes "
   ]
  },
  {
   "cell_type": "code",
   "execution_count": null,
   "metadata": {},
   "outputs": [],
   "source": [
    "# get the offsprings as NDLab class instances\n",
    "dau = [n.gs for n in nl.nuclide(\"241AM\").daughters_chain]\n",
    "\n",
    "# dump in a dataframe\n",
    "df = nl.pandas_df_nl(dau,pd)\n",
    "\n",
    "# Plot. Hover on a point to see more info\n",
    "px.scatter(df, \n",
    "           x= df.index, \n",
    "           y= df.half_life_sec,\n",
    "           hover_data=[\"nucid\"],\n",
    "           labels={ \"index\": \"Daughter # \", \"y\":\"Half-life [s]\"},\n",
    "           log_y=True).show()"
   ]
  },
  {
   "cell_type": "markdown",
   "metadata": {},
   "source": [
    "<div class=\"alert alert-block alert-success\" style=\"font-size:13pt;font-weight:bold\">\n",
    "  3.5 &nbsp;Level energy vs J\n",
    "    </div>\n",
    "The filter is on Z = 20, and for J having a unique assignment"
   ]
  },
  {
   "cell_type": "code",
   "execution_count": null,
   "metadata": {},
   "outputs": [],
   "source": [
    "fields = \"LEVEL.J as j, LEVEL.ENERGY as e\"\n",
    "filter =  \"LEVEL.NUC.Z = 20 and LEVEL.JP_METHOD = RIPL_J_UNIQUE\"\n",
    "\n",
    "df = nl.pandas_df(fields, filter, pd).sort_values(by=['j'])\n",
    "\n",
    "go.Figure().add_trace(go.Scatter(x=df['j'], y = df['e'], mode = \"markers\")).update_layout(xaxis_title='J',\n",
    "yaxis_title='Energy').show()"
   ]
  },
  {
   "cell_type": "markdown",
   "metadata": {},
   "source": [
    "<div class=\"alert alert-block alert-success\" style=\"font-size:13pt;font-weight:bold\">\n",
    "  3.6 &nbsp;Gamma energy vs J of the start level\n",
    "    </div>"
   ]
  },
  {
   "cell_type": "code",
   "execution_count": null,
   "metadata": {},
   "outputs": [],
   "source": [
    "fields = \"GAMMA.START_LEVEL.J as j, GAMMA.ENERGY as e\"\n",
    "filter = \" GAMMA.NUC_ID = '16O' \" \n",
    "\n",
    "df = nl.pandas_df(fields, filter, pd).sort_values(by=['j'])\n",
    "\n",
    "go.Figure().add_trace(go.Scatter(x=df['j'], y = df['e'], mode = \"markers\")).update_layout(xaxis_title='J',\n",
    "yaxis_title='Energy').show()"
   ]
  },
  {
   "cell_type": "markdown",
   "metadata": {},
   "source": [
    "<div class=\"alert alert-block alert-success\" style=\"font-size:13pt;font-weight:bold\">\n",
    "  3.7 &nbsp;Schmidt diagram for Z-odd, N-even nuclides\n",
    "    </div>"
   ]
  },
  {
   "cell_type": "code",
   "execution_count": null,
   "metadata": {},
   "outputs": [],
   "source": [
    "fields =  \"LEVEL.J as j, LEVEL.DIPOLE_MM as m\"\n",
    "filter =  \"LEVEL.NUC.Z % 2 = 1 and LEVEL.NUC.N % 2 = 0 and  LEVEL.JP_METHOD = RIPL_J_UNIQUE\"\n",
    "\n",
    "df = nl.pandas_df(fields, filter, pd).sort_values(by=['j'])\n",
    "\n",
    "go.Figure().add_trace(go.Scatter(x=df['j'], y = df['m'], mode = \"markers\")).update_layout(xaxis_title='J',\n",
    "yaxis_title='Magn. dipole [mu N]').show()"
   ]
  },
  {
   "cell_type": "markdown",
   "metadata": {},
   "source": [
    "<div class=\"alert alert-block alert-success\" style=\"font-size:13pt;font-weight:bold\">\n",
    "  3.8 &nbsp;Linear relation between log(T1/2) and sqrt(Qval) for &alpha; decay of even-even nuclides\n",
    "    </div>"
   ]
  },
  {
   "cell_type": "code",
   "execution_count": null,
   "metadata": {},
   "outputs": [],
   "source": [
    "\n",
    "\n",
    "fields = \"LOG(L_DECAY.LEVEL.HALF_LIFE_SEC) as h , 1/ SQRT(L_DECAY.NUC.QA + L_DECAY.LEVEL.ENERGY) as e \"\n",
    "filter =  \"L_DECAY.NUC.Z = 92  and  L_DECAY.NUC.N % 2 = 0 and L_DECAY.MODE = DECAY_A \"\n",
    "\n",
    "df = nl.pandas_df(fields, filter, pd).sort_values(by=['e'])\n",
    "\n",
    "go.Figure().add_trace(go.Scatter(x=df['e'], y = df['h'], mode = \"markers\")).update_layout(xaxis_title='E(keV)<sup>-1/2</sup>',\n",
    "yaxis_title='log(T<sub>1/2</sub>)').show()\n"
   ]
  },
  {
   "cell_type": "markdown",
   "metadata": {},
   "source": [
    "<div class=\"alert alert-block alert-success\" style=\"font-size:18pt;font-weight:bold\">\n",
    " 4<sup>th</sup> - Solutions to the exercises\n",
    "    </div>"
   ]
  },
  {
   "cell_type": "code",
   "execution_count": null,
   "metadata": {},
   "outputs": [],
   "source": [
    "# practice 1\n",
    "DR_BETA.PARENT_LEVEL.JP\n",
    "\n",
    "# practice 2\n",
    "fields = \" GAMMA.ENERGY \"\n",
    "filter = \" GAMMA.START_LEVEL.JP = '2+' \"\n",
    "print(nl.csv_data(fields, filter))\n",
    "print(nl.json_data(fields, filter))\n",
    "\n",
    "# practice 3\n",
    "fields = \"GAMMA.NUC.Z as z, GAMMA.NUC.N as n , abs( GAMMA.MIXING_RATIO / GAMMA.ENERGY / 0.835 * 1000) as b\"\n",
    "\n",
    "filter  = \"( GAMMA.NUC.Z % 2 = 0 ) and ( GAMMA.NUC.N % 2 = 0) \"                     # even-even nuclides\n",
    "filter +=  \" and GAMMA.START_LEVEL.JP = '2+' and GAMMA.START_LEVEL.JP_ORDER = 2 \"   # starts from Jp=2+ ,2nd occurrence\n",
    "filter +=  \" and GAMMA.END_LEVEL.JP = '2+'   and GAMMA.END_LEVEL.JP_ORDER = 1 \"     # ends at Jp = 2+ ,1st occurrence\n",
    "filter +=  \" and (GAMMA.MULTIPOLARITY = 'E2+M1'or GAMMA.MULTIPOLARITY = 'M1+E2') \"  # E2 + M1 multipolarity\n",
    "\n",
    "nl.csv_data(fields, filter)"
   ]
  }
 ],
 "metadata": {
  "kernelspec": {
   "display_name": "Python 3 (ipykernel)",
   "language": "python",
   "name": "python3"
  },
  "language_info": {
   "codemirror_mode": {
    "name": "ipython",
    "version": 3
   },
   "file_extension": ".py",
   "mimetype": "text/x-python",
   "name": "python",
   "nbconvert_exporter": "python",
   "pygments_lexer": "ipython3",
   "version": "3.8.8"
  },
  "vscode": {
   "interpreter": {
    "hash": "069225ec2bb96c01b78b481d3bb330b709d47ca64a4d246025b7632443518bc9"
   }
  }
 },
 "nbformat": 4,
 "nbformat_minor": 4
}
